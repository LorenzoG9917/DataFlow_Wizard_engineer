{
 "cells": [
  {
   "cell_type": "code",
   "execution_count": 5,
   "metadata": {
    "scrolled": true
   },
   "outputs": [
    {
     "name": "stdout",
     "output_type": "stream",
     "text": [
      "Requirement already satisfied: pandas in d:\\data engineer\\portafolio lorenzo guerrero\\proyecto etl lg\\venv\\lib\\site-packages (2.1.1)\n",
      "Requirement already satisfied: numpy>=1.22.4 in d:\\data engineer\\portafolio lorenzo guerrero\\proyecto etl lg\\venv\\lib\\site-packages (from pandas) (1.26.0)\n",
      "Requirement already satisfied: pytz>=2020.1 in d:\\data engineer\\portafolio lorenzo guerrero\\proyecto etl lg\\venv\\lib\\site-packages (from pandas) (2023.3.post1)\n",
      "Requirement already satisfied: tzdata>=2022.1 in d:\\data engineer\\portafolio lorenzo guerrero\\proyecto etl lg\\venv\\lib\\site-packages (from pandas) (2023.3)\n",
      "Requirement already satisfied: python-dateutil>=2.8.2 in d:\\data engineer\\portafolio lorenzo guerrero\\proyecto etl lg\\venv\\lib\\site-packages (from pandas) (2.8.2)\n",
      "Requirement already satisfied: six>=1.5 in d:\\data engineer\\portafolio lorenzo guerrero\\proyecto etl lg\\venv\\lib\\site-packages (from python-dateutil>=2.8.2->pandas) (1.16.0)\n"
     ]
    },
    {
     "name": "stderr",
     "output_type": "stream",
     "text": [
      "WARNING: You are using pip version 22.0.4; however, version 23.2.1 is available.\n",
      "You should consider upgrading via the 'D:\\Data Engineer\\Portafolio Lorenzo Guerrero\\Proyecto ETL LG\\venv\\Scripts\\python.exe -m pip install --upgrade pip' command.\n"
     ]
    }
   ],
   "source": [
    "!pip install pandas"
   ]
  },
  {
   "cell_type": "code",
   "execution_count": 6,
   "metadata": {
    "id": "oFw3T3w7ELFc"
   },
   "outputs": [],
   "source": [
    "import pandas as pd\n",
    "\n"
   ]
  },
  {
   "cell_type": "code",
   "execution_count": 7,
   "metadata": {
    "id": "QnWbaojHEnSF"
   },
   "outputs": [],
   "source": [
    "df_sales = pd.read_csv('data/sales_data_sample.csv',sep =',',encoding = 'latin1')\n"
   ]
  },
  {
   "cell_type": "code",
   "execution_count": 8,
   "metadata": {
    "id": "Sy5b-GeAIaE4"
   },
   "outputs": [],
   "source": [
    "#get the original columns\n",
    "columns = df_sales.columns"
   ]
  },
  {
   "cell_type": "code",
   "execution_count": 9,
   "metadata": {
    "id": "OwdI7CCpLWRw"
   },
   "outputs": [],
   "source": [
    "#Create a list with the new columns , in lowercase\n",
    "columns_df = columns.map(lambda x: x.lower())"
   ]
  },
  {
   "cell_type": "code",
   "execution_count": 10,
   "metadata": {
    "id": "LyrRvh0vLoio"
   },
   "outputs": [],
   "source": [
    "#Change the columns\n",
    "df_sales.columns = columns_df"
   ]
  },
  {
   "cell_type": "code",
   "execution_count": 11,
   "metadata": {
    "id": "NqhkoZKsMGQg"
   },
   "outputs": [],
   "source": [
    "#Modify columns same with the right valor\n",
    "df_sales['sales'] = df_sales['quantityordered']*df_sales['priceeach']\n"
   ]
  },
  {
   "cell_type": "code",
   "execution_count": 12,
   "metadata": {
    "id": "qS8Tv0llgSW5"
   },
   "outputs": [],
   "source": [
    "#fill values na in column territory\n",
    "def territory_set(value):\n",
    "    if pd.isna(value):\n",
    "        return 'AMERICA'\n",
    "    else:\n",
    "        return value\n",
    "df_sales['territory'] = df_sales['territory'].apply(territory_set)"
   ]
  },
  {
   "cell_type": "code",
   "execution_count": 13,
   "metadata": {
    "id": "Sodj5caQZqsX"
   },
   "outputs": [],
   "source": [
    "#Get the values uniques of territory and create a primary key\n",
    "territory = df_sales.get(['territory'])\n",
    "territories = territory.drop_duplicates().reset_index(drop=True)\n",
    "territories['territory_id'] = [i + 1 for i in range(len(territories))]\n",
    "territories = territories.get(['territory_id','territory'])"
   ]
  },
  {
   "cell_type": "code",
   "execution_count": 14,
   "metadata": {
    "id": "J2kr33ynXQSI"
   },
   "outputs": [],
   "source": [
    "#Get the values uniques of countries and create primary key  and merge to get foreing key\n",
    "country = df_sales.get(['country','territory'])\n",
    "countries = country.drop_duplicates(subset = ['country']).reset_index(drop=True)\n",
    "countries['country_id'] = pd.factorize(countries['country'])[0] + 1\n",
    "countries = countries.get(['country_id','country','territory'])\n",
    "countries = countries.merge(territories, on='territory', how='left')\n",
    "countries = countries.get(['country_id','country','territory_id'])"
   ]
  },
  {
   "cell_type": "code",
   "execution_count": 15,
   "metadata": {
    "colab": {
     "base_uri": "https://localhost:8080/"
    },
    "id": "vVNJ7bumMvFG",
    "outputId": "0bfa1c23-d6de-4f98-9b6e-8f11c7cefe6d"
   },
   "outputs": [
    {
     "name": "stderr",
     "output_type": "stream",
     "text": [
      "C:\\Users\\Lorenzo\\AppData\\Local\\Temp\\ipykernel_3192\\653603705.py:3: SettingWithCopyWarning: \n",
      "A value is trying to be set on a copy of a slice from a DataFrame.\n",
      "Try using .loc[row_indexer,col_indexer] = value instead\n",
      "\n",
      "See the caveats in the documentation: https://pandas.pydata.org/pandas-docs/stable/user_guide/indexing.html#returning-a-view-versus-a-copy\n",
      "  cities['city_id'] = pd.factorize(cities['city'])[0] + 1\n"
     ]
    }
   ],
   "source": [
    "#Get the values uniques of citys and create primary key  and merge to get foreing key\n",
    "cities = df_sales.get(['city','state','country'])\n",
    "cities['city_id'] = pd.factorize(cities['city'])[0] + 1\n",
    "citys = cities.merge(countries.get(['country_id','country']), on='country', how='left') #first do the merge and then delete duplicates\n",
    "citys = citys.drop_duplicates(subset=['city','country']).reset_index(drop=True)\n",
    "citys = citys.get(['city_id','city','state','country_id'])"
   ]
  },
  {
   "cell_type": "code",
   "execution_count": 16,
   "metadata": {
    "colab": {
     "base_uri": "https://localhost:8080/"
    },
    "id": "GQTLz54l7ide",
    "outputId": "6bd932c5-a76f-4a1a-978a-8ba77204327b"
   },
   "outputs": [
    {
     "name": "stderr",
     "output_type": "stream",
     "text": [
      "C:\\Users\\Lorenzo\\AppData\\Local\\Temp\\ipykernel_3192\\3534362300.py:3: SettingWithCopyWarning: \n",
      "A value is trying to be set on a copy of a slice from a DataFrame.\n",
      "Try using .loc[row_indexer,col_indexer] = value instead\n",
      "\n",
      "See the caveats in the documentation: https://pandas.pydata.org/pandas-docs/stable/user_guide/indexing.html#returning-a-view-versus-a-copy\n",
      "  customers['customer_id'] = pd.factorize(customers['customername'])[0] + 1\n"
     ]
    }
   ],
   "source": [
    "#Get the values uniques of customers and create primary key  and merge to get foreing key\n",
    "customers = df_sales.get(['customername','contactlastname','contactfirstname','phone','addressline1','addressline2','postalcode','city'])\n",
    "customers['customer_id'] = pd.factorize(customers['customername'])[0] + 1\n",
    "customers = customers.merge(citys.get(['city_id','city']), on='city', how='left')\n",
    "customers = customers.drop_duplicates(subset=['customername','phone']).reset_index(drop=True)\n",
    "customers = customers.get(['customer_id','customername','contactlastname','contactfirstname','phone','addressline1','addressline2','postalcode','city_id'])\n"
   ]
  },
  {
   "cell_type": "code",
   "execution_count": 17,
   "metadata": {
    "id": "H1VfqwQL7qEP"
   },
   "outputs": [],
   "source": [
    "#Get the values uniques of status and create primary key\n",
    "status = df_sales.get(['status'])\n",
    "status = status.drop_duplicates().reset_index(drop=True)\n",
    "status['status_id'] = [i + 1 for i in range(len(status))]\n",
    "status = status.get(['status_id','status'])"
   ]
  },
  {
   "cell_type": "code",
   "execution_count": 18,
   "metadata": {
    "id": "kpq_XHPH-vNX"
   },
   "outputs": [],
   "source": [
    "#Get the values uniques of orders and create primary key and merge to get foreing key\n",
    "orders = df_sales.get(['ordernumber','orderdate','qtr_id','month_id','year_id','status','customername']).sort_values(by='ordernumber')\n",
    "orders['order_id'] = pd.factorize(orders['ordernumber'])[0] + 1\n",
    "orders = orders.merge(status.get(['status_id','status']), on='status', how='left')\n",
    "orders = orders.merge(customers.get(['customer_id','customername']), on='customername', how='left')\n",
    "orders = orders.drop_duplicates(subset=['ordernumber','orderdate']).reset_index(drop=True)\n",
    "orders['orderdate'] = pd.to_datetime(orders['orderdate']) #Change format to YYYY-MM-DD\n",
    "orders = orders.get(['order_id','ordernumber','orderdate','qtr_id','month_id','year_id','status_id','customer_id'])"
   ]
  },
  {
   "cell_type": "code",
   "execution_count": 19,
   "metadata": {
    "id": "PCENLy0q-vzu"
   },
   "outputs": [],
   "source": [
    "#Get the values uniques of ProductLines\n",
    "product_lines = df_sales.get(['productline'])\n",
    "product_lines = product_lines.drop_duplicates().reset_index(drop=True)\n",
    "product_lines['productline_id'] = [i + 1 for i in range(len(product_lines))]\n",
    "product_lines = product_lines.get(['productline_id','productline'])\n"
   ]
  },
  {
   "cell_type": "code",
   "execution_count": 20,
   "metadata": {
    "id": "dsEN-vyqFF8G"
   },
   "outputs": [],
   "source": [
    "#Get the values uniques of dealsizes\n",
    "dealsizes = df_sales.get(['dealsize'])\n",
    "dealsizes  = dealsizes .drop_duplicates().reset_index(drop=True)\n",
    "dealsizes ['dealsize_id'] = [i + 1 for i in range(len(dealsizes))]\n",
    "dealsizes  = dealsizes .get(['dealsize_id','dealsize'])"
   ]
  },
  {
   "cell_type": "code",
   "execution_count": 21,
   "metadata": {
    "colab": {
     "base_uri": "https://localhost:8080/"
    },
    "id": "vX5tbe7WE0ig",
    "outputId": "aa6d4b7a-1bee-437a-ddc9-0ecbd17243b5"
   },
   "outputs": [
    {
     "name": "stderr",
     "output_type": "stream",
     "text": [
      "C:\\Users\\Lorenzo\\AppData\\Local\\Temp\\ipykernel_3192\\3532212272.py:3: SettingWithCopyWarning: \n",
      "A value is trying to be set on a copy of a slice from a DataFrame.\n",
      "Try using .loc[row_indexer,col_indexer] = value instead\n",
      "\n",
      "See the caveats in the documentation: https://pandas.pydata.org/pandas-docs/stable/user_guide/indexing.html#returning-a-view-versus-a-copy\n",
      "  products['product_id'] = pd.factorize(products['productcode'])[0] + 1\n"
     ]
    }
   ],
   "source": [
    "#Get the values uniques of products and create primary key  and merge to get foreing key\n",
    "products = df_sales.get(['productcode','msrp','productline'])\n",
    "products['product_id'] = pd.factorize(products['productcode'])[0] + 1\n",
    "products = products.merge(product_lines.get(['productline_id','productline']), on='productline', how='left')\n",
    "products = products.drop_duplicates(subset=['productcode','msrp']).reset_index(drop=True)\n",
    "products = products.get(['product_id','productcode','msrp','productline_id',])"
   ]
  },
  {
   "cell_type": "code",
   "execution_count": 22,
   "metadata": {
    "id": "zcYbJBk0G-b2"
   },
   "outputs": [],
   "source": [
    "#Create table order_products\n",
    "order_products = df_sales.get(['ordernumber','productcode','quantityordered','priceeach','orderlinenumber','sales','dealsize','customername']).sort_values(by='ordernumber')\n",
    "order_products = order_products.merge(products.get(['product_id','productcode']), on='productcode', how='left')\n",
    "order_products = order_products.merge(orders.get(['order_id','ordernumber']), on='ordernumber', how='left')\n",
    "order_products = order_products.merge(dealsizes.get(['dealsize_id','dealsize']), on='dealsize', how='left')\n",
    "order_products = order_products.get(['order_id','product_id','quantityordered','priceeach','orderlinenumber','sales','dealsize_id'])"
   ]
  },
  {
   "cell_type": "code",
   "execution_count": 23,
   "metadata": {
    "id": "SXhP8sA2P1G5"
   },
   "outputs": [],
   "source": [
    "data = {'territories':territories,'countries':countries,'citys':citys,'customers':customers,'status':status,'orders':orders,'product_lines':product_lines,\n",
    "        'dealsizes':dealsizes,'products':products,'order_products':order_products}"
   ]
  },
  {
   "cell_type": "code",
   "execution_count": 25,
   "metadata": {
    "colab": {
     "base_uri": "https://localhost:8080/"
    },
    "id": "5s1S-A3ZZTc3",
    "outputId": "4046f04c-8831-484f-c3e8-fe6bf9e4c80d"
   },
   "outputs": [
    {
     "name": "stdout",
     "output_type": "stream",
     "text": [
      "Dataframe territories successfuly convert to csv\n",
      "Dataframe countries successfuly convert to csv\n",
      "Dataframe citys successfuly convert to csv\n",
      "Dataframe customers successfuly convert to csv\n",
      "Dataframe status successfuly convert to csv\n",
      "Dataframe orders successfuly convert to csv\n",
      "Dataframe product_lines successfuly convert to csv\n",
      "Dataframe dealsizes successfuly convert to csv\n",
      "Dataframe products successfuly convert to csv\n",
      "Dataframe order_products successfuly convert to csv\n"
     ]
    }
   ],
   "source": [
    "for df_name, df in data.items():\n",
    "    df.to_csv(f'output_Data/{df_name}.csv',index=False)\n",
    "    print(f'Dataframe {df_name} successfuly convert to csv')\n"
   ]
  },
  {
   "cell_type": "code",
   "execution_count": null,
   "metadata": {
    "id": "QKh1Su4HamMX"
   },
   "outputs": [],
   "source": []
  }
 ],
 "metadata": {
  "colab": {
   "provenance": []
  },
  "kernelspec": {
   "display_name": "venv",
   "language": "python",
   "name": "venv"
  },
  "language_info": {
   "codemirror_mode": {
    "name": "ipython",
    "version": 3
   },
   "file_extension": ".py",
   "mimetype": "text/x-python",
   "name": "python",
   "nbconvert_exporter": "python",
   "pygments_lexer": "ipython3",
   "version": "3.9.12"
  }
 },
 "nbformat": 4,
 "nbformat_minor": 4
}
