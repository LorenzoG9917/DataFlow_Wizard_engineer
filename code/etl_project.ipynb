{
 "cells": [
  {
   "cell_type": "code",
   "execution_count": 11,
   "id": "176a2acb-b16a-46f7-b5f3-d0c9d3e81c85",
   "metadata": {},
   "outputs": [
    {
     "name": "stdout",
     "output_type": "stream",
     "text": [
      "Requirement already satisfied: psycopg2 in d:\\data engineer\\portafolio lorenzo guerrero\\proyecto etl\\venv\\lib\\site-packages (2.9.7)\n"
     ]
    },
    {
     "name": "stderr",
     "output_type": "stream",
     "text": [
      "\n",
      "[notice] A new release of pip available: 22.3.1 -> 23.2.1\n",
      "[notice] To update, run: python.exe -m pip install --upgrade pip\n"
     ]
    }
   ],
   "source": [
    "!pip install psycopg2"
   ]
  },
  {
   "cell_type": "code",
   "execution_count": 177,
   "id": "844cd730-6cd2-4f56-a95e-649971f16f94",
   "metadata": {},
   "outputs": [],
   "source": [
    "#import library\n",
    "import psycopg2"
   ]
  },
  {
   "cell_type": "markdown",
   "id": "571ffecf-f627-4f2a-a9fa-8f5d96074b2a",
   "metadata": {},
   "source": [
    "# Create a connection to the database"
   ]
  },
  {
   "cell_type": "code",
   "execution_count": 178,
   "id": "85d4f5e8-cbf3-4b08-84d9-b26a44513e23",
   "metadata": {},
   "outputs": [
    {
     "name": "stdout",
     "output_type": "stream",
     "text": [
      "<connection object at 0x000001AD58665140; dsn: 'user=postgres password=xxx dbname=postgres host=127.0.0.1 port=5433', closed: 0>\n"
     ]
    }
   ],
   "source": [
    "try:\n",
    "    conn = psycopg2.connect(\"host=127.0.0.1 dbname=postgres user=postgres port=5433 password=Guerrero99134\")\n",
    "    print(conn)\n",
    "except psycopg2.Error as e:\n",
    "    print('Errror: Could not make connection to the postgres database')\n",
    "    print(e)"
   ]
  },
  {
   "cell_type": "markdown",
   "id": "e4255cb9-5635-479c-a749-6d3f31a821e3",
   "metadata": {},
   "source": [
    "# Use the connection to get a cursor tha can be used to execute queries"
   ]
  },
  {
   "cell_type": "code",
   "execution_count": 179,
   "id": "96f1a043-385c-4757-911e-a458e41efa62",
   "metadata": {},
   "outputs": [],
   "source": [
    "try:\n",
    "    cur = conn.cursor()\n",
    "except psycopg2.Error as e:\n",
    "    print('Error: Could not get curser to the Database')\n",
    "    print(e)\n",
    "    "
   ]
  },
  {
   "cell_type": "markdown",
   "id": "74dacc08-3767-4b1e-abdd-1d3b25309fd2",
   "metadata": {},
   "source": [
    "# Set automatic commit to be True so that each action is commited without having to call con.commit() after each command"
   ]
  },
  {
   "cell_type": "code",
   "execution_count": 180,
   "id": "512cc0e1-7268-43a2-9904-6cfd51d7dabd",
   "metadata": {},
   "outputs": [],
   "source": [
    "conn.set_session(autocommit=True)"
   ]
  },
  {
   "cell_type": "markdown",
   "id": "c39fb6c9-e037-4a17-a58e-8691f8df6070",
   "metadata": {},
   "source": [
    "# Create a database to do the work in"
   ]
  },
  {
   "cell_type": "code",
   "execution_count": 184,
   "id": "3f4b5785-4a46-4f38-b4cb-29760b05fc9b",
   "metadata": {},
   "outputs": [
    {
     "name": "stdout",
     "output_type": "stream",
     "text": [
      "la base de datos «sales_db» ya existe\n",
      "\n"
     ]
    }
   ],
   "source": [
    "database_name = 'sales_db'\n",
    "try:\n",
    "    database_exists_query = f\"SELECT 1 FROM pg_database WHERE datname = '{database_name}';\"\n",
    "    result = cur.execute(database_exists_query)\n",
    "    if not result:\n",
    "        cur.execute(f\"CREATE DATABASE {database_name}\")\n",
    "        print(f\"Created database '{database_name}' successfully.\")\n",
    "except psycopg2.Error as e:\n",
    "    print(e)"
   ]
  },
  {
   "cell_type": "markdown",
   "id": "9b656f63-a7d9-47bd-945d-ea3aa19da64f",
   "metadata": {},
   "source": [
    "# Add the database name in the connect statement . Let's close our connection to the default database, reconnect to the udacity database, and get a new cursor"
   ]
  },
  {
   "cell_type": "code",
   "execution_count": 185,
   "id": "e6129e9c-409e-482f-9da6-5890cc8a967a",
   "metadata": {},
   "outputs": [
    {
     "name": "stdout",
     "output_type": "stream",
     "text": [
      "Connect to database sales_db\n",
      "Create successful cursor <cursor object at 0x000001AD585FEF80; closed: 0>\n"
     ]
    }
   ],
   "source": [
    "try:\n",
    "    conn.close()\n",
    "except psycopg2.Errror as e:\n",
    "    print(e)\n",
    "\n",
    "try:\n",
    "    conn = psycopg2.connect(\"host=127.0.0.1 dbname=sales_db user=postgres port=5433 password=Guerrero99134\")\n",
    "    print(f\"Connect to database {database_name}\")\n",
    "except psycopg2.Error as e:\n",
    "    print('Errror: Could not make connection to the postgres database')\n",
    "    print(e)\n",
    "\n",
    "try:\n",
    "    cur = conn.cursor()\n",
    "    print(f'Create successful cursor {cur}')\n",
    "except psycopg2.Error as e:\n",
    "    print('Error: Could not get curser to the Database')\n",
    "    print(e)\n",
    "\n",
    "conn.set_session(autocommit=True)"
   ]
  },
  {
   "cell_type": "markdown",
   "id": "c5b6ec9a-0d62-4554-b4f1-8da5fc8dde06",
   "metadata": {},
   "source": [
    "# Create tables"
   ]
  },
  {
   "cell_type": "code",
   "execution_count": 186,
   "id": "d43296ac-17a0-45bd-a2c8-c83282db5e48",
   "metadata": {},
   "outputs": [
    {
     "name": "stdout",
     "output_type": "stream",
     "text": [
      "Created table territories successfully.\n",
      "Created table countries successfully.\n",
      "Created table cities successfully.\n",
      "Created table customers successfully.\n",
      "Created table status successfully.\n",
      "Created table orders successfully.\n",
      "Created table productlines successfully.\n",
      "Created table products successfully.\n",
      "Created table dealsizes successfully.\n",
      "Created table orders_products successfully.\n"
     ]
    }
   ],
   "source": [
    "try:\n",
    "    table_territories = \"\"\"\n",
    "    CREATE TABLE IF NOT EXISTS territories (\n",
    "    territory_id INT PRIMARY KEY,\n",
    "    territory VARCHAR(15) NOT NULL\n",
    "    )\n",
    "    \"\"\"\n",
    "    table_countries = \"\"\"\n",
    "    CREATE TABLE IF NOT EXISTS countries(\n",
    "    country_id INT PRIMARY KEY,\n",
    "    country VARCHAR(15) NOT NULL,\n",
    "    territory_id INT,\n",
    "    FOREIGN KEY (territory_id)\n",
    "        REFERENCES territories(territory_id)\n",
    "        ON DELETE CASCADE ON UPDATE CASCADE\n",
    "    )\n",
    "    \"\"\" \n",
    "    table_cities = \"\"\"\n",
    "    CREATE TABLE IF NOT EXISTS cities(\n",
    "    city_id INT PRIMARY KEY,\n",
    "    city VARCHAR(15) NOT NULL,\n",
    "    state VARCHAR(20),\n",
    "    country_id INT,\n",
    "    FOREIGN KEY (country_id)\n",
    "        REFERENCES countries(country_id)\n",
    "        ON DELETE CASCADE ON UPDATE CASCADE\n",
    "    )\n",
    "    \"\"\" \n",
    "    table_customers = \"\"\"\n",
    "    CREATE TABLE IF NOT EXISTS customers(\n",
    "    customer_id INT PRIMARY KEY,\n",
    "    customername VARCHAR(50) NOT NULL,\n",
    "    contactlastname VARCHAR(30),\n",
    "    contactfirstname VARCHAR(30),\n",
    "    phone VARCHAR(30),\n",
    "    addressline1 VARCHAR(60),\n",
    "    addressline2 VARCHAR(60),\n",
    "    postalcode VARCHAR(15),\n",
    "    city_id INT,\n",
    "    FOREIGN KEY (city_id)\n",
    "        REFERENCES cities(city_id)\n",
    "        ON DELETE CASCADE ON UPDATE CASCADE\n",
    "    )\n",
    "    \"\"\"\n",
    "    table_status = \"\"\"\n",
    "    CREATE TABLE IF NOT EXISTS status (\n",
    "    status_id INT PRIMARY KEY,\n",
    "    status VARCHAR(15)\n",
    "    )\n",
    "    \"\"\"\n",
    "\n",
    "    table_orders = \"\"\"\n",
    "    CREATE TABLE IF NOT EXISTS orders(\n",
    "    order_id INT PRIMARY KEY,\n",
    "    ordernumber INT NOT NULL,\n",
    "    orderdate DATE,\n",
    "    qtr_id INT,\n",
    "    month_id INT,\n",
    "    year_id INT,\n",
    "    status_id INT,\n",
    "    customer_id INT,\n",
    "    FOREIGN KEY (status_id)\n",
    "        REFERENCES status(status_id)\n",
    "        ON DELETE CASCADE ON UPDATE CASCADE,\n",
    "    FOREIGN KEY (customer_id)\n",
    "        REFERENCES customers(customer_id)\n",
    "        ON DELETE CASCADE ON UPDATE CASCADE\n",
    "    )\n",
    "    \"\"\"\n",
    "    table_products_lines = \"\"\"\n",
    "    CREATE TABLE IF NOT EXISTS productlines (\n",
    "    productline_id INT PRIMARY KEY,\n",
    "    productline VARCHAR(20)\n",
    "    )\n",
    "    \"\"\"\n",
    "    table_products = \"\"\"\n",
    "    CREATE TABLE IF NOT EXISTS products(\n",
    "    product_id INT PRIMARY KEY,\n",
    "    productcode CHAR(9),\n",
    "    msrp INT,\n",
    "    productline_id INT,\n",
    "    FOREIGN KEY (productline_id)\n",
    "        REFERENCES productlines(productline_id)\n",
    "        ON DELETE CASCADE ON UPDATE CASCADE\n",
    "    )\n",
    "    \"\"\" \n",
    "    table_dealsizes = \"\"\"\n",
    "    CREATE TABLE IF NOT EXISTS dealsizes (\n",
    "    dealsize_id INT PRIMARY KEY,\n",
    "    dealsize VARCHAR(10)\n",
    "    )\n",
    "    \"\"\"\n",
    "    table_orders_products = \"\"\"\n",
    "    CREATE TABLE IF NOT EXISTS orders_products(\n",
    "    order_id INT,\n",
    "    product_id INT,\n",
    "    quantityordered INT,\n",
    "    priceeach FLOAT,\n",
    "    orderlinenumber INT,\n",
    "    sales FLOAT,\n",
    "    dealsize_id INT,\n",
    "    PRIMARY KEY (order_id,product_id),\n",
    "    FOREIGN KEY (order_id)\n",
    "        REFERENCES orders(order_id)\n",
    "        ON DELETE CASCADE ON UPDATE CASCADE,\n",
    "    FOREIGN KEY (product_id)\n",
    "        REFERENCES products(product_id)\n",
    "        ON DELETE CASCADE ON UPDATE CASCADE,\n",
    "    FOREIGN KEY (dealsize_id)\n",
    "        REFERENCES dealsizes(dealsize_id)\n",
    "        ON DELETE CASCADE ON UPDATE CASCADE\n",
    "    )\n",
    "    \"\"\"\n",
    "    tables = {'territories':table_territories,'countries':table_countries,'cities':table_cities,\n",
    "             'customers':table_customers,'status':table_status,'orders':table_orders,'productlines':table_products_lines,\n",
    "             'products':table_products,'dealsizes':table_dealsizes,'orders_products':table_orders_products}\n",
    "    for table,query in tables.items(): \n",
    "        cur.execute(query)\n",
    "        print(f\"Created table {table} successfully.\")\n",
    "        \n",
    "except psycopg2.Error as e:\n",
    "    print(\"Error: Issue creating table\")\n",
    "    print(e)\n",
    "    "
   ]
  },
  {
   "cell_type": "markdown",
   "id": "c53ce53b-c19c-498f-9147-274031fbffe1",
   "metadata": {},
   "source": [
    "# Upload files"
   ]
  },
  {
   "cell_type": "code",
   "execution_count": 187,
   "id": "5bd2edf9-ae1a-4e53-88fe-74a3c61ec8a8",
   "metadata": {},
   "outputs": [],
   "source": [
    "tables_upload = {'territories':'territories','countries':'countries','cities':'citys',\n",
    "             'customers':'customers','status':'status','orders':'orders','productlines':'product_lines',\n",
    "             'products':'products','dealsizes':'dealsizes','orders_products':'order_products'}"
   ]
  },
  {
   "cell_type": "code",
   "execution_count": 188,
   "id": "7281c5fd-ce41-4782-8a5f-387d605f90a9",
   "metadata": {},
   "outputs": [
    {
     "name": "stdout",
     "output_type": "stream",
     "text": [
      "Skipped duplicate rows for table territories\n",
      "Skipped duplicate rows for table countries\n",
      "Skipped duplicate rows for table cities\n",
      "Skipped duplicate rows for table customers\n",
      "Skipped duplicate rows for table status\n",
      "Skipped duplicate rows for table orders\n",
      "Skipped duplicate rows for table productlines\n",
      "Skipped duplicate rows for table products\n",
      "Skipped duplicate rows for table dealsizes\n",
      "Skipped duplicate rows for table orders_products\n",
      "Connection close succesfully\n"
     ]
    }
   ],
   "source": [
    "for table, table_file in tables_upload.items():\n",
    "    upload_csv = f\"\"\"\n",
    "    COPY {table}\n",
    "    FROM 'D:/Data Engineer/Portafolio Lorenzo Guerrero/Proyecto ETL/output_data/{table_file}.csv'\n",
    "    DELIMITER ','\n",
    "    CSV HEADER\n",
    "    \"\"\"\n",
    "    try:\n",
    "        cur.execute(upload_csv)\n",
    "        print(f'Successfully upload table {table}')\n",
    "    except psycopg2.Error as e:\n",
    "        # Handle primary key violations by skipping conflicting rows\n",
    "        if 'llave duplicada viola restricción de unicidad' in str(e):\n",
    "            print(f'Skipped duplicate rows for table {table}')\n",
    "        else:\n",
    "            print(\"Error: Issue uploading rows\")\n",
    "            print(e)\n",
    "\n",
    "try:\n",
    "    conn.close()\n",
    "    print('Connection close succesfully')\n",
    "except psycopg2.Errror as e:\n",
    "    print(e)\n"
   ]
  },
  {
   "cell_type": "code",
   "execution_count": null,
   "id": "bcd0a8f2-5e2f-4340-a4af-39bacbfd0872",
   "metadata": {},
   "outputs": [],
   "source": []
  }
 ],
 "metadata": {
  "kernelspec": {
   "display_name": "venv",
   "language": "python",
   "name": "venv"
  },
  "language_info": {
   "codemirror_mode": {
    "name": "ipython",
    "version": 3
   },
   "file_extension": ".py",
   "mimetype": "text/x-python",
   "name": "python",
   "nbconvert_exporter": "python",
   "pygments_lexer": "ipython3",
   "version": "3.9.12"
  }
 },
 "nbformat": 4,
 "nbformat_minor": 5
}
